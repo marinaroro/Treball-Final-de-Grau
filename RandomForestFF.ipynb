{
 "cells": [
  {
   "cell_type": "code",
   "execution_count": null,
   "metadata": {},
   "outputs": [],
   "source": [
    "# Importem llibreries necessaries per implementar el mètode Random Forest\n",
    "import pandas as pd\n",
    "import numpy as np\n",
    "import seaborn as sb\n",
    "import openpyxl\n",
    "import matplotlib.pyplot as plt\n",
    "from sklearn.model_selection import train_test_split\n",
    "from sklearn.ensemble import RandomForestClassifier\n",
    "from sklearn.metrics import confusion_matrix\n",
    "from sklearn.metrics import accuracy_score\n",
    "from sklearn.model_selection import cross_val_score\n",
    "from sklearn.metrics import classification_report"
   ]
  },
  {
   "cell_type": "code",
   "execution_count": null,
   "metadata": {},
   "outputs": [],
   "source": [
    "#Carreguem fitxer Excel i el llegim per poder ser utilitzat\n",
    "xls = ''\n",
    "fitxer = openpyxl.load_workbook(xls)\n",
    "\n",
    "df = pd.read_excel(xls, sheet_name = '', engine = 'openpyxl')"
   ]
  },
  {
   "cell_type": "code",
   "execution_count": null,
   "metadata": {},
   "outputs": [],
   "source": [
    "# Mostrem forma del fitxer (files i columnes)\n",
    "df.shape"
   ]
  },
  {
   "cell_type": "code",
   "execution_count": null,
   "metadata": {},
   "outputs": [],
   "source": [
    "# Mostrem les 5 primeres files per conèixer com és el fitxer\n",
    "df.head()"
   ]
  },
  {
   "cell_type": "code",
   "execution_count": null,
   "metadata": {},
   "outputs": [],
   "source": [
    "# Mostrem les 5 últimes files per conèixer com és el fitxer\n",
    "df.tail()"
   ]
  },
  {
   "cell_type": "code",
   "execution_count": null,
   "metadata": {},
   "outputs": [],
   "source": [
    "# Mirem de quin tipus són les característiques (int, float, object...)\n",
    "df.info()"
   ]
  },
  {
   "cell_type": "code",
   "execution_count": null,
   "metadata": {},
   "outputs": [],
   "source": [
    "# Amb la funció descriure podem tenir una idea general de quin valor pren cada varible\n",
    "df.describe()"
   ]
  },
  {
   "cell_type": "code",
   "execution_count": null,
   "metadata": {},
   "outputs": [],
   "source": [
    "# Agrupem per la variable Target per saber com d'equilibrat està el conjunt de dades\n",
    "df[\"\"].value_counts()"
   ]
  },
  {
   "cell_type": "code",
   "execution_count": null,
   "metadata": {},
   "outputs": [],
   "source": [
    "# Mostrem la variable target de forma visual\n",
    "sb.countplot(x = df[\"\"])\n",
    "plt.xlabel(\"\")\n",
    "plt.ylabel(\"Quantitat\")\n",
    "plt.title(\"Quantitat d'obesitat/No obesitat\")"
   ]
  },
  {
   "cell_type": "code",
   "execution_count": null,
   "metadata": {},
   "outputs": [],
   "source": [
    "# Definim X per a totes les variables i y només per la variable target\n",
    "X = df.iloc[:, :-1] # Dades: volem totes les files i totes les columnes menys la del target\n",
    "y = df.iloc[:, -1]  # Target: volem totes les files i només l'última columna"
   ]
  },
  {
   "cell_type": "code",
   "execution_count": null,
   "metadata": {},
   "outputs": [],
   "source": [
    "# Mostrem la quantitat de valors que hi ha al vector X\n",
    "X.shape"
   ]
  },
  {
   "cell_type": "code",
   "execution_count": null,
   "metadata": {},
   "outputs": [],
   "source": [
    "# Mostrem la quantitat de valors que hi ha al vector y\n",
    "y.shape"
   ]
  },
  {
   "cell_type": "code",
   "execution_count": null,
   "metadata": {},
   "outputs": [],
   "source": [
    "# Utilitzem el 75% de les dades per a entrenament i el 25% restant per a test\n",
    "X_train, X_test, y_train, y_test = train_test_split(X, y, test_size = 0.25, random_state=0)"
   ]
  },
  {
   "cell_type": "code",
   "execution_count": null,
   "metadata": {},
   "outputs": [],
   "source": [
    "# Mostrem els valors que hi haurà per entrenar i testejar\n",
    "print('Nombre de mostres de target: ', np.bincount(y))\n",
    "print('Nombre de mostres de target per a entrenar:', np.bincount(y_train))\n",
    "print('Nombre de mostres de target per a testejar', np.bincount(y_test))"
   ]
  },
  {
   "cell_type": "code",
   "execution_count": null,
   "metadata": {},
   "outputs": [],
   "source": [
    "# Creem el bosc aleatori\n",
    "model = RandomForestClassifier(n_estimators=25,criterion=\"gini\", max_depth=30, min_samples_split=10, random_state=0)\n",
    "#n_estimators = nombre de arbres que utiliza el model\n",
    "#criterion = criteri que utilita el model\n",
    "#max_depth = profunditat màxima a la que pot créixer cada arbre\n",
    "#max_features = quantitat de caracteristiques que tria a la hora de buscar la millor divisió (sqrt, log2, none)"
   ]
  },
  {
   "cell_type": "code",
   "execution_count": null,
   "metadata": {},
   "outputs": [],
   "source": [
    "# Entrenem el model amb les dades d'entrenament\n",
    "model.fit(X_train, y_train)"
   ]
  },
  {
   "cell_type": "code",
   "execution_count": null,
   "metadata": {},
   "outputs": [],
   "source": [
    "#Anàlisi de la importancia de variables\n",
    "model.feature_importances_"
   ]
  },
  {
   "cell_type": "code",
   "execution_count": null,
   "metadata": {},
   "outputs": [],
   "source": [
    "# Mostrem nom de les columnes per saber a que fan referència els valors anteriors\n",
    "df.columns"
   ]
  },
  {
   "cell_type": "code",
   "execution_count": null,
   "metadata": {},
   "outputs": [],
   "source": [
    "# Calculem la predicció de cada cas\n",
    "pred = model.predict(X_test)\n",
    "pred"
   ]
  },
  {
   "cell_type": "code",
   "execution_count": null,
   "metadata": {},
   "outputs": [],
   "source": [
    "#Fem la matriu de confusió per veure la quantitat de 0 / 1 que el model és capaç d'encertar\n",
    "confusion_matrix(y_test, pred)"
   ]
  },
  {
   "cell_type": "code",
   "execution_count": null,
   "metadata": {},
   "outputs": [],
   "source": [
    "# Calculem l'accuracy tant per a les dades de test com d'entrenament\n",
    "print('Train accuracy: ', model.score(X_train, y_train))\n",
    "print('Test accuracy: ', model.score(X_test, y_test)) "
   ]
  },
  {
   "cell_type": "code",
   "execution_count": null,
   "metadata": {},
   "outputs": [],
   "source": [
    "# Calculem l'accuracy total\n",
    "accuracy_score(y_test, pred)"
   ]
  },
  {
   "cell_type": "code",
   "execution_count": null,
   "metadata": {},
   "outputs": [],
   "source": [
    "# Calculem predicció a partir de validació creuada\n",
    "cross_val_score(model, X_train, y_train, cv=10)"
   ]
  },
  {
   "cell_type": "code",
   "execution_count": null,
   "metadata": {},
   "outputs": [],
   "source": [
    "# Report de les mètriques per comprovar el model\n",
    "print(classification_report(pred, y_test))"
   ]
  },
  {
   "cell_type": "code",
   "execution_count": null,
   "metadata": {},
   "outputs": [],
   "source": [
    "# Mostrem la importància de les variables per conèixer les que afecten més i menys\n",
    "features = df.columns\n",
    "importances = model.feature_importances_\n",
    "indices = np.argsort(importances)\n",
    "\n",
    "plt.figure(figsize=[10,10])\n",
    "plt.title(\"Importància de les característiques\")\n",
    "plt.barh(range(len(indices)), importances[indices], color = 'g', align = 'center')\n",
    "plt.yticks(range(len(indices)), [features[i] for i in indices])\n",
    "plt.xlabel(\"Importància\")\n",
    "plt.show()"
   ]
  }
 ],
 "metadata": {
  "language_info": {
   "name": "python"
  },
  "orig_nbformat": 4
 },
 "nbformat": 4,
 "nbformat_minor": 2
}
