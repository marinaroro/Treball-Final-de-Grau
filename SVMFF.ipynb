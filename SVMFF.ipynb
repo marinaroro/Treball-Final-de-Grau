{
 "cells": [
  {
   "cell_type": "code",
   "execution_count": null,
   "metadata": {},
   "outputs": [],
   "source": [
    "# Importem llibreries necessaries per implementar el mètode Màquines de Suport Vectorial\n",
    "import pandas as pd\n",
    "import numpy as np\n",
    "import matplotlib.pyplot as plt\n",
    "import seaborn as sb\n",
    "import openpyxl\n",
    "from sklearn import svm\n",
    "from sklearn.svm import SVC\n",
    "from sklearn.model_selection import train_test_split\n",
    "from sklearn.model_selection import GridSearchCV\n",
    "from sklearn.metrics import accuracy_score, confusion_matrix, classification_report\n",
    "from sklearn.model_selection import GridSearchCV"
   ]
  },
  {
   "cell_type": "code",
   "execution_count": null,
   "metadata": {},
   "outputs": [],
   "source": [
    "#Carreguem fitxer Excel i el llegim per poder ser utilitzat\n",
    "xls = ''\n",
    "fitxer = openpyxl.load_workbook(xls)\n",
    "\n",
    "df = pd.read_excel(xls, sheet_name = '', engine = 'openpyxl')"
   ]
  },
  {
   "cell_type": "code",
   "execution_count": null,
   "metadata": {},
   "outputs": [],
   "source": [
    "# Mostrem les 5 primeres files per conèixer com és el fitxer\n",
    "df.head()"
   ]
  },
  {
   "cell_type": "code",
   "execution_count": null,
   "metadata": {},
   "outputs": [],
   "source": [
    "# Agrupem per la variable Target per saber com d'equilibrat està el conjunt de dades\n",
    "df[''].value_counts()"
   ]
  },
  {
   "cell_type": "code",
   "execution_count": null,
   "metadata": {},
   "outputs": [],
   "source": [
    "# Bucle per poder representar tots els Histogrames (de cada variable) en relació a la quantitat que hi ha de cada valor \n",
    "# de la variable\n",
    "variables = len(df.columns)\n",
    "\n",
    "heads = np.empty((1,variables), dtype='object')\n",
    "j=0\n",
    "\n",
    "for col in df.columns:\n",
    "    heads[0,j] = col\n",
    "    j+=1\n",
    "\n",
    "print: heads\n",
    "\n",
    "for i in range(variables-1):\n",
    "    \n",
    "    intervals = range( int(np.min(df.iloc[:,i])) , int(np.max(df.iloc[:,i])) + 2 )\n",
    "\n",
    "    #Creem el gràfic en Seaborn\n",
    "    plt.figure(figsize=[20,50])\n",
    "    sb.displot(df.iloc[:, i], color='#F2AB6D', bins=intervals, kde=True) \n",
    "\n",
    "    #Fem la configuració amb Matplotlib\n",
    "    #plt.xticks(intervals)\n",
    "    plt.ylabel('Frequència')\n",
    "    plt.xlabel(heads[0,i])\n",
    "    plt.show()"
   ]
  },
  {
   "cell_type": "code",
   "execution_count": null,
   "metadata": {},
   "outputs": [],
   "source": [
    "# Mirem de quin tipus són les característiques (int, float, object...) per si s'han de realitzar més modificacions\n",
    "df.info()"
   ]
  },
  {
   "cell_type": "code",
   "execution_count": null,
   "metadata": {},
   "outputs": [],
   "source": [
    "#Si hi ha algunes variables simboliques (objecte) s'han de modificar per ser numèriques"
   ]
  },
  {
   "cell_type": "code",
   "execution_count": null,
   "metadata": {},
   "outputs": [],
   "source": [
    "# Definim vector X,volem totes les files i totes les columnes menys la del target\n",
    "X = df.iloc[:, :-1] \n",
    "X.head()"
   ]
  },
  {
   "cell_type": "code",
   "execution_count": null,
   "metadata": {},
   "outputs": [],
   "source": [
    "# Definim vector y, volem totes les files i només l'última columna\n",
    "y = df.iloc[:, -1] \n",
    "y.head()"
   ]
  },
  {
   "cell_type": "code",
   "execution_count": null,
   "metadata": {},
   "outputs": [],
   "source": [
    "# Calculem la correlació entre les diferents variables\n",
    "correlacio = df.corr(method='pearson')\n",
    "print(correlacio)"
   ]
  },
  {
   "cell_type": "code",
   "execution_count": null,
   "metadata": {},
   "outputs": [],
   "source": [
    "#Primera opció 75% de dades per a entrenar i 25% per a test \n",
    "X_train, X_test, y_train, y_test = train_test_split(X, y, test_size = 0.25, random_state= 150) \n",
    "print('Tren entrenament: ', X_train.shape, y_train.shape)\n",
    "print('Tren test: ', X_test.shape, y_test.shape)"
   ]
  },
  {
   "cell_type": "code",
   "execution_count": null,
   "metadata": {},
   "outputs": [],
   "source": [
    "# Escalem els valors ja que estan en escales diferents i el mètode no pren el mateix pes per a cada variable, entén que les que\n",
    "# tenen el valor més gran, tenen més pes. \n",
    "from sklearn.preprocessing import StandardScaler\n",
    "sc = StandardScaler()\n",
    "X_train_array = sc.fit_transform(X_train.values)\n",
    "X_train = pd.DataFrame(X_train_array, index=X_train.index, columns=X_train.columns)\n",
    "X_test_array = sc.transform(X_test.values)\n",
    "X_test = pd.DataFrame(X_test_array, index=X_test.index, columns=X_test.columns)"
   ]
  },
  {
   "cell_type": "code",
   "execution_count": null,
   "metadata": {},
   "outputs": [],
   "source": [
    "#Entrenem el model sense ajustar els paràmetres\n",
    "model_1 = SVC()\n",
    "model_1.fit(X_train, y_train)\n",
    "\n",
    "#predicció de resultats\n",
    "prediccio = model_1.predict(X_test)\n",
    "print(classification_report(y_test, prediccio))\n",
    "\n",
    "#Podem veure que 89% de precisió però pels casos de 0, és a dir, el classificador sempre classifica tot en una mateixa classe, \n",
    "# (la classe 0). Necessitem ajustar els paràmetres perquè aconsegueixi classificar en la classe 1. "
   ]
  },
  {
   "cell_type": "code",
   "execution_count": null,
   "metadata": {},
   "outputs": [],
   "source": [
    "#Fem la matriu de confusió per veure la quantitat de 0 / 1 que el model és capaç d'encertar\n",
    "confusion_matrix(y_test, prediccio)"
   ]
  },
  {
   "cell_type": "code",
   "execution_count": null,
   "metadata": {},
   "outputs": [],
   "source": [
    "# Calculem accuracy del model\n",
    "accuracy_score(y_test, prediccio)"
   ]
  },
  {
   "cell_type": "code",
   "execution_count": null,
   "metadata": {},
   "outputs": [],
   "source": [
    "#Provem amb els diferents tipus que existeixen (Radial, lineal, polinomial, sigmoidal)\n",
    "#Cada tipus diferent te uns parametres diferents\n",
    "#Paràmetres: c (per tots), degree (poly), gamma (poly, sigmoid, rbf), coef0 (poly, sigmoid)"
   ]
  },
  {
   "cell_type": "code",
   "execution_count": null,
   "metadata": {},
   "outputs": [],
   "source": [
    "#Definim el rang dels parametres que necessitarem en cada cas\n",
    "trials = 5\n",
    "C_array = np.zeros(trials)\n",
    "Gamma_array = np.zeros(trials)\n",
    "deg_array = np.zeros(trials, dtype= 'int')\n",
    "coef0_array = np.zeros(trials)\n",
    "\n",
    "for i in range(trials):\n",
    "    if (i == 0):\n",
    "        C_array[i] = 0.0001\n",
    "        Gamma_array[i] = 0.0001\n",
    "        deg_array[i] = 1\n",
    "        coef0_array[i] = 0.0001\n",
    "    \n",
    "    elif(i % 2 == 0):\n",
    "        C_array[i] = C_array[i-1]*2\n",
    "        Gamma_array[i] = Gamma_array[i-1]*2\n",
    "        deg_array[i] = deg_array[i-1]*2\n",
    "        coef0_array[i] = coef0_array[i-1]*2\n",
    "    else:\n",
    "        C_array[i] = C_array[i-1]*5\n",
    "        Gamma_array[i] = Gamma_array[i-1]*5\n",
    "        deg_array[i] = deg_array[i-1]*5\n",
    "        coef0_array[i] = coef0_array[i-1]*5\n",
    "\n",
    "print(\"C_array: \", C_array)\n",
    "print(\"Gamma_array: \", Gamma_array)\n",
    "print(\"Deg_array: \", deg_array)\n",
    "print(\"coef0_array: \", coef0_array)"
   ]
  },
  {
   "cell_type": "code",
   "execution_count": null,
   "metadata": {},
   "outputs": [],
   "source": [
    "# A partir d'aqui s'implementen totes les funcions (Radial, Lineal, Polinomial i Sigmoide) amb els paràmetres trobats\n",
    "# en el bloc anterior i es calculen mètriques per veure quin és el rendiment del model"
   ]
  },
  {
   "cell_type": "code",
   "execution_count": null,
   "metadata": {},
   "outputs": [],
   "source": [
    "# ------------------------------------------------ KERNEL RADIAL ------------------------------------------------------\n",
    "\n",
    "param_grid_radial = {'C': C_array, 'gamma': Gamma_array, 'kernel': ['rbf']}\n",
    "\n",
    "grid_Radial = GridSearchCV(SVC(), param_grid_radial, refit = True, verbose = 3)\n",
    "\n",
    "grid_Radial.fit(X_train, y_train)\n",
    "\n",
    "# Mostrem els millors valors dels parametres\n",
    "print(grid_Radial.best_params_)\n",
    "\n",
    "print(grid_Radial.best_estimator_)"
   ]
  },
  {
   "cell_type": "code",
   "execution_count": null,
   "metadata": {},
   "outputs": [],
   "source": [
    "#Predicció model Radial\n",
    "grid_predictions_R = grid_Radial.predict(X_test)\n",
    "print(classification_report(y_test, grid_predictions_R))\n",
    "\n",
    "print(grid_Radial.score(X_train, y_train))\n",
    "print(grid_Radial.score(X_test, y_test))\n",
    "\n",
    "accuracy_score(y_test, grid_predictions_R)\n",
    "\n",
    "confusion_matrix(y_test, grid_predictions_R)"
   ]
  },
  {
   "cell_type": "code",
   "execution_count": null,
   "metadata": {},
   "outputs": [],
   "source": [
    "# ------------------------------------------------ KERNEL LINEAL ------------------------------------------------------\n",
    "param_grid_linear = {'C': C_array, 'kernel': ['linear']}\n",
    "\n",
    "grid_Linear = GridSearchCV(SVC(), param_grid_linear, refit = True, verbose = 3)\n",
    "\n",
    "grid_Linear.fit(X_train, y_train)\n",
    "\n",
    "# Mostrem els millors valors dels parametres\n",
    "print(grid_Linear.best_params_)\n",
    "\n",
    "print(grid_Linear.best_estimator_)"
   ]
  },
  {
   "cell_type": "code",
   "execution_count": null,
   "metadata": {},
   "outputs": [],
   "source": [
    "#Predicció model Lineal\n",
    "grid_predictions_L = grid_Linear.predict(X_test)\n",
    "print(classification_report(y_test, grid_predictions_L))\n",
    "\n",
    "print(grid_Linear.score(X_train, y_train))\n",
    "print(grid_Linear.score(X_test, y_test))\n",
    "\n",
    "accuracy_score(y_test, grid_predictions_L)\n",
    "\n",
    "confusion_matrix(y_test, grid_predictions_L)"
   ]
  },
  {
   "cell_type": "code",
   "execution_count": null,
   "metadata": {},
   "outputs": [],
   "source": [
    "# ------------------------------------------------ KERNEL POLINOMIAL ------------------------------------------------------\n",
    "param_grid_poly = {'C': C_array, 'gamma': Gamma_array, 'degree': deg_array, 'coef0': coef0_array, 'kernel': ['poly']}\n",
    "\n",
    "grid_Poly = GridSearchCV(SVC(), param_grid_poly, refit = True, verbose = 3)\n",
    "\n",
    "grid_Poly.fit(X_train, y_train)\n",
    "\n",
    "# Mostrem els millors valors dels parametres\n",
    "print(grid_Poly.best_params_)\n",
    "\n",
    "print(grid_Poly.best_estimator_)"
   ]
  },
  {
   "cell_type": "code",
   "execution_count": null,
   "metadata": {},
   "outputs": [],
   "source": [
    "# Predicció model polinomial\n",
    "grid_predictions_P = grid_Poly.predict(X_test)\n",
    "print(classification_report(y_test, grid_predictions_P))\n",
    "\n",
    "print(grid_Poly.score(X_train, y_train))\n",
    "print(grid_Poly.score(X_test, y_test))\n",
    "\n",
    "accuracy_score(y_test, grid_predictions_P)\n",
    "\n",
    "confusion_matrix(y_test, grid_predictions_P)"
   ]
  },
  {
   "cell_type": "code",
   "execution_count": null,
   "metadata": {},
   "outputs": [],
   "source": [
    "# ------------------------------------------------ KERNEL SIGMOIDE ------------------------------------------------------\n",
    "param_grid_sigmoid = {'C': C_array, 'gamma': Gamma_array, 'coef0': coef0_array, 'kernel': ['sigmoid']}\n",
    "\n",
    "grid_Sigmoid = GridSearchCV(SVC(), param_grid_sigmoid, refit = True, verbose = 3)\n",
    "\n",
    "grid_Sigmoid.fit(X_train, y_train)\n",
    "\n",
    "# Mostrem els millors valors dels parametres\n",
    "print(grid_Sigmoid.best_params_)\n",
    "\n",
    "print(grid_Sigmoid.best_estimator_)"
   ]
  },
  {
   "cell_type": "code",
   "execution_count": null,
   "metadata": {},
   "outputs": [],
   "source": [
    "#Predicció model Sigmoidal\n",
    "grid_predictions_S = grid_Sigmoid.predict(X_test)\n",
    "print(classification_report(y_test, grid_predictions_S))\n",
    "\n",
    "print(grid_Sigmoid.score(X_train, y_train))\n",
    "print(grid_Sigmoid.score(X_test, y_test))\n",
    "\n",
    "accuracy_score(y_test, grid_predictions_S)\n",
    "\n",
    "confusion_matrix(y_test, grid_predictions_S)"
   ]
  }
 ],
 "metadata": {
  "language_info": {
   "name": "python"
  },
  "orig_nbformat": 4
 },
 "nbformat": 4,
 "nbformat_minor": 2
}
