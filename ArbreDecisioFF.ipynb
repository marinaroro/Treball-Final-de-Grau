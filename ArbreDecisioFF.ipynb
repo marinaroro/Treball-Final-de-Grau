{
 "cells": [
  {
   "cell_type": "code",
   "execution_count": null,
   "metadata": {},
   "outputs": [],
   "source": [
    "# Importem llibreries necessaries per implementar l'Arbre de Decisió\n",
    "import pandas as pd\n",
    "import numpy as np\n",
    "import openpyxl\n",
    "from sklearn.tree import DecisionTreeClassifier\n",
    "import matplotlib.pyplot as plt\n",
    "from sklearn.tree import plot_tree\n",
    "import seaborn as sb\n",
    "from sklearn.model_selection import train_test_split\n",
    "from sklearn.metrics import confusion_matrix, accuracy_score, classification_report, f1_score, recall_score"
   ]
  },
  {
   "cell_type": "code",
   "execution_count": null,
   "metadata": {},
   "outputs": [],
   "source": [
    "#Carreguem fitxer Excel i el llegim per poder ser utilitzat\n",
    "xls = ''\n",
    "fitxer = openpyxl.load_workbook(xls)\n",
    "df = pd.read_excel(xls, sheet_name = '', engine = 'openpyxl')"
   ]
  },
  {
   "cell_type": "code",
   "execution_count": null,
   "metadata": {},
   "outputs": [],
   "source": [
    "# Mostrem les 5 primeres files per conèixer com és el fitxer\n",
    "df.head()"
   ]
  },
  {
   "cell_type": "code",
   "execution_count": null,
   "metadata": {},
   "outputs": [],
   "source": [
    "# Mostrem forma del fitxer (files i columnes)\n",
    "np.shape(df)"
   ]
  },
  {
   "cell_type": "code",
   "execution_count": null,
   "metadata": {},
   "outputs": [],
   "source": [
    "# Agrupem per la variable Target per saber com d'equilibrat està el conjunt de dades\n",
    "df.groupby('').size()"
   ]
  },
  {
   "cell_type": "code",
   "execution_count": null,
   "metadata": {},
   "outputs": [],
   "source": [
    "#Separem les característiques, Dades estaran totes les variables excepte la de Target, a Target només ella mateixa\n",
    "variables = len(df.columns) \n",
    "Dades = df.iloc[:,0:variables-1]\n",
    "Target = df.iloc[:,variables-1]"
   ]
  },
  {
   "cell_type": "code",
   "execution_count": null,
   "metadata": {},
   "outputs": [],
   "source": [
    "#Separarem les dades en una part d'entrenament i una part de test, 80% d'entrenament i 20% de test\n",
    "Dades_train, Dades_test, Target_train, Target_test = train_test_split(Dades, Target, train_size = 0.8)"
   ]
  },
  {
   "cell_type": "code",
   "execution_count": null,
   "metadata": {},
   "outputs": [],
   "source": [
    "#Entrenem el model, li passem una profunditat de l'arbre de 13, s'ha determinar previament que era la que proporcionava més precisió\n",
    "model = DecisionTreeClassifier(max_depth=13)\n",
    "# S'entrena el model només amb les variables d'entrenament\n",
    "model.fit(Dades_train, Target_train)"
   ]
  },
  {
   "cell_type": "code",
   "execution_count": null,
   "metadata": {},
   "outputs": [],
   "source": [
    "#Visualitzem l'arbre amb les mesures que triem\n",
    "plt.figure(figsize=[80,35])\n",
    "plot_tree(decision_tree=model, feature_names=Dades.columns, filled = True, fontsize=25);\n",
    "# Guardem l'imatge de l'arbre a la carpeta que s'indiqui\n",
    "#plt.savefig('ArbreDesicio.png')"
   ]
  },
  {
   "cell_type": "code",
   "execution_count": null,
   "metadata": {},
   "outputs": [],
   "source": [
    "#Calculem la predicció de les dades\n",
    "prediccio= model.predict(Dades_test)\n",
    "print(prediccio)"
   ]
  },
  {
   "cell_type": "code",
   "execution_count": null,
   "metadata": {},
   "outputs": [],
   "source": [
    "#Mostrem plot de la variable X en relació a la quantitat que hi ha a la base de dades\n",
    "sb.histplot(x = df.X, hue = df.OBE1TY_5Y_grup)"
   ]
  },
  {
   "cell_type": "code",
   "execution_count": null,
   "metadata": {},
   "outputs": [],
   "source": [
    "#Fem la matriu de confusió per veure la quantitat de 0 / 1 que el model és capaç d'encertar\n",
    "MatriuConfusio = confusion_matrix(Target_test, prediccio)\n",
    "print(MatriuConfusio)"
   ]
  },
  {
   "cell_type": "code",
   "execution_count": null,
   "metadata": {},
   "outputs": [],
   "source": [
    "#Precisió total \n",
    "PrecisioTotal = np.sum(MatriuConfusio.diagonal()/np.sum(MatriuConfusio))\n",
    "print(PrecisioTotal)"
   ]
  },
  {
   "cell_type": "code",
   "execution_count": null,
   "metadata": {},
   "outputs": [],
   "source": [
    "# % de precisió de no patir obesitat\n",
    "PrecisioNo = (MatriuConfusio[0,0])/sum(MatriuConfusio[0,])\n",
    "print(PrecisioNo)"
   ]
  },
  {
   "cell_type": "code",
   "execution_count": null,
   "metadata": {},
   "outputs": [],
   "source": [
    "# % de precisió de patir obesitat\n",
    "PrecisioSi = (MatriuConfusio[1,1])/sum(MatriuConfusio[1,])\n",
    "print(PrecisioSi)"
   ]
  },
  {
   "cell_type": "code",
   "execution_count": null,
   "metadata": {},
   "outputs": [],
   "source": [
    "#Accuracy del model d'arbre de decisió\n",
    "accuracy_score(Target_test, prediccio)"
   ]
  },
  {
   "cell_type": "code",
   "execution_count": null,
   "metadata": {},
   "outputs": [],
   "source": [
    "#Report de les mètriques per comprovar el model\n",
    "print(classification_report(Target_test, prediccio))"
   ]
  },
  {
   "cell_type": "code",
   "execution_count": null,
   "metadata": {},
   "outputs": [],
   "source": [
    "# Apliquem Shapley value per tal de determinar la importancia de les característiques (varibles)\n",
    "import shap \n",
    "\n",
    "# Escollim el de tree shap, ja que es tracta d'un arbre de decisió\n",
    "value = shap.TreeExplainer(model=model)"
   ]
  },
  {
   "cell_type": "code",
   "execution_count": null,
   "metadata": {},
   "outputs": [],
   "source": [
    "# Agafem una fila que a la varible target sigui = 0\n",
    "\n",
    "valor_zero = Dades_train.iloc[2]\n",
    "classe_zero = Target_train.iloc[2]\n",
    "\n",
    "# Agafem una fila que a la varible target sigui = 1\n",
    "\n",
    "valor_un = Dades_train.iloc[5]\n",
    "classe_un = Target_train.iloc[5]"
   ]
  },
  {
   "cell_type": "code",
   "execution_count": null,
   "metadata": {},
   "outputs": [],
   "source": [
    "# Predicció del cas amb Target = 0\n",
    "\n",
    "print(f\"{model.predict_proba(valor_zero.values.reshape(1,-1))}\")\n",
    "\n",
    "# En aquest cas Target = 0, té sentit que predigui 100% que és 0 i 0% que és 1"
   ]
  },
  {
   "cell_type": "code",
   "execution_count": null,
   "metadata": {},
   "outputs": [],
   "source": [
    "# Predicció del cas amb Target = 1\n",
    "\n",
    "print(f\"{model.predict_proba(valor_un.values.reshape(1,-1))}\")\n",
    "\n",
    "# En aquest cas Target = 1, prediu malament ja que aquest model no calcula bé per els valors 1 = obesos"
   ]
  },
  {
   "cell_type": "code",
   "execution_count": null,
   "metadata": {},
   "outputs": [],
   "source": [
    "# Mirem quines són les característiques més impotants en el model\n",
    "model.feature_importances_"
   ]
  },
  {
   "cell_type": "code",
   "execution_count": null,
   "metadata": {},
   "outputs": [],
   "source": [
    "# Calculem els valors Shapley (amb la instrucció shap_values) de cada característica pel cas de Target = 0\n",
    "# Valors de Shapley per a la classe 0 (no obesitat)\n",
    "\n",
    "shap_valor_zero = value.shap_values(valor_zero)\n",
    "print(f\"{shap_valor_zero[0]}\") "
   ]
  },
  {
   "cell_type": "code",
   "execution_count": null,
   "metadata": {},
   "outputs": [],
   "source": [
    "# Valors de Shapley per a la classe 1 (obesitat)\n",
    "\n",
    "shap_valor_zero = value.shap_values(valor_zero)\n",
    "print(f\"{shap_valor_zero[1]}\") "
   ]
  },
  {
   "cell_type": "code",
   "execution_count": null,
   "metadata": {},
   "outputs": [],
   "source": [
    "# Calculem els valors Shapley (amb la instrucció shap_values) de cada característica pel cas de Target = 1\n",
    "# Valors de Shapley per a la classe 0 (no obesitat) \n",
    "\n",
    "shap_valor_un = value.shap_values(valor_un)\n",
    "print(f\"{shap_valor_un[0]}\")"
   ]
  },
  {
   "cell_type": "code",
   "execution_count": null,
   "metadata": {},
   "outputs": [],
   "source": [
    "# Valors de Shapley per a la classe 1 (obesitat) \n",
    "\n",
    "shap_valor_un = value.shap_values(valor_un)\n",
    "print(f\"{shap_valor_un[1]}\")"
   ]
  },
  {
   "cell_type": "code",
   "execution_count": null,
   "metadata": {},
   "outputs": [],
   "source": [
    "# Plotejem per veure que volen dir aquests valors\n",
    "\n",
    "shap_values = value.shap_values(Dades_train)\n",
    "\n",
    "shap.summary_plot(shap_values[1], Dades_train)\n",
    "\n",
    "# Les variables estan ordenades de manera que la primera variable té més importància i l'última és la que en té menys.\n",
    "# El color ens indica vermell = valors alts si es així ls valors de Shapley seran baixos i ens indica que la característica empenya cap a la classe negativa,\n",
    "# és a dir Target 0 (no obés), blau = valors baixos indica valors de Shapley alts i per tant Target = 1 (obés)"
   ]
  },
  {
   "cell_type": "code",
   "execution_count": null,
   "metadata": {},
   "outputs": [],
   "source": [
    "# Veiem un gràfic més clar\n",
    "\n",
    "shap.summary_plot(shap_values, Dades_train)"
   ]
  }
 ],
 "metadata": {
  "language_info": {
   "name": "python"
  },
  "orig_nbformat": 4
 },
 "nbformat": 4,
 "nbformat_minor": 2
}
